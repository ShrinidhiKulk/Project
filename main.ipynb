{
 "cells": [
  {
   "cell_type": "code",
   "execution_count": 20,
   "metadata": {},
   "outputs": [],
   "source": [
    "# Import necessary libraries\n",
    "import pandas as pd\n",
    "import seaborn as sns\n",
    "import matplotlib.pyplot as plt\n",
    "\n"
   ]
  },
  {
   "cell_type": "code",
   "execution_count": 21,
   "metadata": {},
   "outputs": [],
   "source": [
    "# Load datasets\n",
    "core_ev = pd.read_csv('EV_Dataset.csv')\n",
    "extended_ev = pd.read_csv('Extended_EV_Dataset.csv')\n",
    "vehicle_info = pd.read_csv('General_Vehicle_Type_Dataset.csv')"
   ]
  },
  {
   "cell_type": "code",
   "execution_count": 22,
   "metadata": {},
   "outputs": [],
   "source": [
    "# Clean up column names\n",
    "core_ev.columns = core_ev.columns.str.strip()\n",
    "extended_ev.columns = extended_ev.columns.str.strip()\n",
    "vehicle_info.columns = vehicle_info.columns.str.strip()"
   ]
  },
  {
   "cell_type": "code",
   "execution_count": 23,
   "metadata": {},
   "outputs": [
    {
     "name": "stdout",
     "output_type": "stream",
     "text": [
      "Core EV Data Columns: ['Brand', 'Model', 'AccelSec', 'TopSpeed_KmH', 'Range_Km', 'Battery_Pack Kwh', 'Efficiency_WhKm', 'FastCharge_KmH', 'RapidCharge', 'PowerTrain', 'PlugType', 'BodyStyle', 'Segment', 'Seats', 'PriceEuro', 'INR']\n",
      "Core EV Data Shape: (100, 16)\n",
      "Extended EV Data Columns: ['BodyStyle', 'Segment', 'Seats', 'AccelSec', 'TopSpeed_KmH', 'Range_Km', 'Battery_Pack Kwh', 'Efficiency_WhKm', 'FastCharge_KmH', 'RapidCharge', 'PowerTrain', 'PlugType', 'PriceEuro', 'INR', 'Brand', 'Model']\n",
      "Extended EV Data Shape: (100, 16)\n",
      "Vehicle Info Columns: ['Brand', 'Model', 'VehicleType', 'FuelType', 'EngineCC', 'Mileage_kmpl', 'Battery_kWh', 'Range_km', 'SeatingCapacity', 'Transmission', 'EmissionStandard', 'Price_INR']\n",
      "Vehicle Info Data Shape: (100, 12)\n"
     ]
    }
   ],
   "source": [
    "# Inspect column names and dimensions\n",
    "print(\"Core EV Data Columns:\", core_ev.columns.tolist())\n",
    "print(\"Core EV Data Shape:\", core_ev.shape)\n",
    "\n",
    "print(\"Extended EV Data Columns:\", extended_ev.columns.tolist())\n",
    "print(\"Extended EV Data Shape:\", extended_ev.shape)\n",
    "\n",
    "print(\"Vehicle Info Columns:\", vehicle_info.columns.tolist())\n",
    "print(\"Vehicle Info Data Shape:\", vehicle_info.shape)"
   ]
  },
  {
   "cell_type": "code",
   "execution_count": 24,
   "metadata": {},
   "outputs": [],
   "source": [
    "# Merge datasets on Model\n",
    "merged = pd.merge(core_ev, extended_ev, how='outer', on='Model')\n",
    "merged = pd.merge(merged, vehicle_info, how='outer', on='Model')"
   ]
  },
  {
   "cell_type": "code",
   "execution_count": 25,
   "metadata": {},
   "outputs": [
    {
     "name": "stdout",
     "output_type": "stream",
     "text": [
      "\n",
      "Summary Statistics:\n",
      "         Brand     Model\n",
      "count     100       300\n",
      "unique      9       220\n",
      "top     Honda  Tiago EV\n",
      "freq       18         8\n"
     ]
    }
   ],
   "source": [
    "# Summary statistics\n",
    "summary_cols = ['Brand', 'Model', 'TopSpeed_KmH', 'Range_Km', 'Battery_Pack Kwh', \n",
    "                'Efficiency_WhKm', 'FastCharge_KmH', 'Seats', 'PriceEuro']\n",
    "summary_cols_present = [col for col in summary_cols if col in merged.columns]\n",
    "print(\"\\nSummary Statistics:\\n\", merged[summary_cols_present].describe(include='all'))"
   ]
  },
  {
   "cell_type": "code",
   "execution_count": 30,
   "metadata": {},
   "outputs": [
    {
     "data": {
      "image/png": "[encoded data removed]",
      "text/plain": [
       "<Figure size 1000x600 with 1 Axes>"
      ]
     },
     "metadata": {},
     "output_type": "display_data"
    }
   ],
   "source": [
    "# Visualizations\n",
    "if 'Brand' in merged.columns:\n",
    "    plt.figure(figsize=(10, 6))\n",
    "    sns.countplot(data=merged, y='Brand', order=merged['Brand'].value_counts().index[:15])\n",
    "    plt.title('Top 15 Brands by Model Count')\n",
    "    plt.xlabel('Number of Models')\n",
    "    plt.ylabel('Brand')\n",
    "    plt.tight_layout()\n",
    "    plt.show()\n",
    "\n",
    "if 'TopSpeed_KmH' in merged.columns:\n",
    "    plt.figure(figsize=(8, 5))\n",
    "    sns.histplot(merged['TopSpeed_KmH'], kde=True, bins=30)\n",
    "    plt.title('Top Speed Distribution')\n",
    "    plt.xlabel('Top Speed (Km/H)')\n",
    "    plt.tight_layout()\n",
    "    plt.show()\n",
    "\n",
    "if 'Range_Km' in merged.columns:\n",
    "    plt.figure(figsize=(8, 5))\n",
    "    sns.histplot(merged['Range_Km'], kde=True, bins=30)\n",
    "    plt.title('Range Distribution')\n",
    "    plt.xlabel('Range (Km)')\n",
    "    plt.tight_layout()\n",
    "    plt.show()\n",
    "\n",
    "if 'Battery_Pack Kwh' in merged.columns:\n",
    "    plt.figure(figsize=(8, 5))\n",
    "    sns.histplot(merged['Battery_Pack Kwh'], kde=True, bins=30)\n",
    "    plt.title('Battery Pack Size Distribution')\n",
    "    plt.xlabel('Battery Pack (kWh)')\n",
    "    plt.tight_layout()\n",
    "    plt.show()\n",
    "\n",
    "if 'Efficiency_WhKm' in merged.columns:\n",
    "    plt.figure(figsize=(8, 5))\n",
    "    sns.histplot(merged['Efficiency_WhKm'], kde=True, bins=30)\n",
    "    plt.title('Efficiency (Wh/km) Distribution')\n",
    "    plt.xlabel('Efficiency (Wh/km)')\n",
    "    plt.tight_layout()\n",
    "    plt.show()\n",
    "\n",
    "if 'PriceEuro' in merged.columns:\n",
    "    plt.figure(figsize=(8, 5))\n",
    "    sns.histplot(merged['PriceEuro'], kde=True, bins=30)\n",
    "    plt.title('Price Distribution in Euros')\n",
    "    plt.xlabel('Price (Euro)')\n",
    "    plt.tight_layout()\n",
    "    plt.show()\n",
    "\n",
    "if 'Seats' in merged.columns:\n",
    "    plt.figure(figsize=(6, 4))\n",
    "    sns.countplot(data=merged, x='Seats', order=merged['Seats'].value_counts().index)\n",
    "    plt.title('Seat Count Distribution')\n",
    "    plt.xlabel('Number of Seats')\n",
    "    plt.tight_layout()\n",
    "    plt.show()"
   ]
  },
  {
   "cell_type": "code",
   "execution_count": 31,
   "metadata": {},
   "outputs": [
    {
     "data": {
      "image/png": "[encoded data removed]",
      "text/plain": [
       "<Figure size 1000x600 with 1 Axes>"
      ]
     },
     "metadata": {},
     "output_type": "display_data"
    }
   ],
   "source": [
    "# Check and plot for common category columns\n",
    "category_cols = ['BodyStyle', 'Segment', 'VehicleType', 'Vehicle Type']\n",
    "for col in category_cols:\n",
    "    if col in merged.columns:\n",
    "        plt.figure(figsize=(10, 6))\n",
    "        sns.countplot(data=merged, y=col, order=merged[col].value_counts().index[:10])\n",
    "        plt.title(f'{col} Distribution')\n",
    "        plt.tight_layout()\n",
    "        plt.show()"
   ]
  },
  {
   "cell_type": "code",
   "execution_count": 32,
   "metadata": {},
   "outputs": [
    {
     "name": "stdout",
     "output_type": "stream",
     "text": [
      "\n",
      "Missing Values:\n",
      " Brand_x               200\n",
      "AccelSec_x            200\n",
      "TopSpeed_KmH_x        200\n",
      "Range_Km_x            200\n",
      "Battery_Pack Kwh_x    200\n",
      "Efficiency_WhKm_x     200\n",
      "FastCharge_KmH_x      200\n",
      "RapidCharge_x         200\n",
      "PowerTrain_x          200\n",
      "PlugType_x            200\n",
      "BodyStyle_x           200\n",
      "Segment_x             200\n",
      "Seats_x               200\n",
      "PriceEuro_x           200\n",
      "INR_x                 200\n",
      "BodyStyle_y           200\n",
      "Segment_y             200\n",
      "Seats_y               200\n",
      "AccelSec_y            200\n",
      "TopSpeed_KmH_y        200\n",
      "Range_Km_y            200\n",
      "Battery_Pack Kwh_y    200\n",
      "Efficiency_WhKm_y     200\n",
      "FastCharge_KmH_y      200\n",
      "RapidCharge_y         200\n",
      "PowerTrain_y          200\n",
      "PlugType_y            200\n",
      "PriceEuro_y           200\n",
      "INR_y                 200\n",
      "Brand_y               200\n",
      "Brand                 200\n",
      "VehicleType           200\n",
      "FuelType              200\n",
      "EngineCC              229\n",
      "Mileage_kmpl          229\n",
      "Battery_kWh           271\n",
      "Range_km              271\n",
      "SeatingCapacity       200\n",
      "Transmission          200\n",
      "EmissionStandard      200\n",
      "Price_INR             200\n",
      "dtype: int64\n"
     ]
    }
   ],
   "source": [
    "# Check for missing values\n",
    "missing = merged.isnull().sum()\n",
    "print(\"\\nMissing Values:\\n\", missing[missing > 0])\n"
   ]
  },
  {
   "cell_type": "code",
   "execution_count": 33,
   "metadata": {},
   "outputs": [
    {
     "name": "stderr",
     "output_type": "stream",
     "text": [
      "C:\\Users\\sudharshan\\AppData\\Local\\Temp\\ipykernel_12028\\832086240.py:3: FutureWarning: A value is trying to be set on a copy of a DataFrame or Series through chained assignment using an inplace method.\n",
      "The behavior will change in pandas 3.0. This inplace method will never work because the intermediate object on which we are setting values always behaves as a copy.\n",
      "\n",
      "For example, when doing 'df[col].method(value, inplace=True)', try using 'df.method({col: value}, inplace=True)' or df[col] = df[col].method(value) instead, to perform the operation inplace on the original object.\n",
      "\n",
      "\n",
      "  merged[col].fillna(merged[col].median(), inplace=True)\n",
      "C:\\Users\\sudharshan\\AppData\\Local\\Temp\\ipykernel_12028\\832086240.py:3: FutureWarning: A value is trying to be set on a copy of a DataFrame or Series through chained assignment using an inplace method.\n",
      "The behavior will change in pandas 3.0. This inplace method will never work because the intermediate object on which we are setting values always behaves as a copy.\n",
      "\n",
      "For example, when doing 'df[col].method(value, inplace=True)', try using 'df.method({col: value}, inplace=True)' or df[col] = df[col].method(value) instead, to perform the operation inplace on the original object.\n",
      "\n",
      "\n",
      "  merged[col].fillna(merged[col].median(), inplace=True)\n",
      "C:\\Users\\sudharshan\\AppData\\Local\\Temp\\ipykernel_12028\\832086240.py:3: FutureWarning: A value is trying to be set on a copy of a DataFrame or Series through chained assignment using an inplace method.\n",
      "The behavior will change in pandas 3.0. This inplace method will never work because the intermediate object on which we are setting values always behaves as a copy.\n",
      "\n",
      "For example, when doing 'df[col].method(value, inplace=True)', try using 'df.method({col: value}, inplace=True)' or df[col] = df[col].method(value) instead, to perform the operation inplace on the original object.\n",
      "\n",
      "\n",
      "  merged[col].fillna(merged[col].median(), inplace=True)\n",
      "C:\\Users\\sudharshan\\AppData\\Local\\Temp\\ipykernel_12028\\832086240.py:3: FutureWarning: A value is trying to be set on a copy of a DataFrame or Series through chained assignment using an inplace method.\n",
      "The behavior will change in pandas 3.0. This inplace method will never work because the intermediate object on which we are setting values always behaves as a copy.\n",
      "\n",
      "For example, when doing 'df[col].method(value, inplace=True)', try using 'df.method({col: value}, inplace=True)' or df[col] = df[col].method(value) instead, to perform the operation inplace on the original object.\n",
      "\n",
      "\n",
      "  merged[col].fillna(merged[col].median(), inplace=True)\n",
      "C:\\Users\\sudharshan\\AppData\\Local\\Temp\\ipykernel_12028\\832086240.py:3: FutureWarning: A value is trying to be set on a copy of a DataFrame or Series through chained assignment using an inplace method.\n",
      "The behavior will change in pandas 3.0. This inplace method will never work because the intermediate object on which we are setting values always behaves as a copy.\n",
      "\n",
      "For example, when doing 'df[col].method(value, inplace=True)', try using 'df.method({col: value}, inplace=True)' or df[col] = df[col].method(value) instead, to perform the operation inplace on the original object.\n",
      "\n",
      "\n",
      "  merged[col].fillna(merged[col].median(), inplace=True)\n",
      "C:\\Users\\sudharshan\\AppData\\Local\\Temp\\ipykernel_12028\\832086240.py:3: FutureWarning: A value is trying to be set on a copy of a DataFrame or Series through chained assignment using an inplace method.\n",
      "The behavior will change in pandas 3.0. This inplace method will never work because the intermediate object on which we are setting values always behaves as a copy.\n",
      "\n",
      "For example, when doing 'df[col].method(value, inplace=True)', try using 'df.method({col: value}, inplace=True)' or df[col] = df[col].method(value) instead, to perform the operation inplace on the original object.\n",
      "\n",
      "\n",
      "  merged[col].fillna(merged[col].median(), inplace=True)\n",
      "C:\\Users\\sudharshan\\AppData\\Local\\Temp\\ipykernel_12028\\832086240.py:3: FutureWarning: A value is trying to be set on a copy of a DataFrame or Series through chained assignment using an inplace method.\n",
      "The behavior will change in pandas 3.0. This inplace method will never work because the intermediate object on which we are setting values always behaves as a copy.\n",
      "\n",
      "For example, when doing 'df[col].method(value, inplace=True)', try using 'df.method({col: value}, inplace=True)' or df[col] = df[col].method(value) instead, to perform the operation inplace on the original object.\n",
      "\n",
      "\n",
      "  merged[col].fillna(merged[col].median(), inplace=True)\n",
      "C:\\Users\\sudharshan\\AppData\\Local\\Temp\\ipykernel_12028\\832086240.py:3: FutureWarning: A value is trying to be set on a copy of a DataFrame or Series through chained assignment using an inplace method.\n",
      "The behavior will change in pandas 3.0. This inplace method will never work because the intermediate object on which we are setting values always behaves as a copy.\n",
      "\n",
      "For example, when doing 'df[col].method(value, inplace=True)', try using 'df.method({col: value}, inplace=True)' or df[col] = df[col].method(value) instead, to perform the operation inplace on the original object.\n",
      "\n",
      "\n",
      "  merged[col].fillna(merged[col].median(), inplace=True)\n",
      "C:\\Users\\sudharshan\\AppData\\Local\\Temp\\ipykernel_12028\\832086240.py:3: FutureWarning: A value is trying to be set on a copy of a DataFrame or Series through chained assignment using an inplace method.\n",
      "The behavior will change in pandas 3.0. This inplace method will never work because the intermediate object on which we are setting values always behaves as a copy.\n",
      "\n",
      "For example, when doing 'df[col].method(value, inplace=True)', try using 'df.method({col: value}, inplace=True)' or df[col] = df[col].method(value) instead, to perform the operation inplace on the original object.\n",
      "\n",
      "\n",
      "  merged[col].fillna(merged[col].median(), inplace=True)\n",
      "C:\\Users\\sudharshan\\AppData\\Local\\Temp\\ipykernel_12028\\832086240.py:3: FutureWarning: A value is trying to be set on a copy of a DataFrame or Series through chained assignment using an inplace method.\n",
      "The behavior will change in pandas 3.0. This inplace method will never work because the intermediate object on which we are setting values always behaves as a copy.\n",
      "\n",
      "For example, when doing 'df[col].method(value, inplace=True)', try using 'df.method({col: value}, inplace=True)' or df[col] = df[col].method(value) instead, to perform the operation inplace on the original object.\n",
      "\n",
      "\n",
      "  merged[col].fillna(merged[col].median(), inplace=True)\n",
      "C:\\Users\\sudharshan\\AppData\\Local\\Temp\\ipykernel_12028\\832086240.py:3: FutureWarning: A value is trying to be set on a copy of a DataFrame or Series through chained assignment using an inplace method.\n",
      "The behavior will change in pandas 3.0. This inplace method will never work because the intermediate object on which we are setting values always behaves as a copy.\n",
      "\n",
      "For example, when doing 'df[col].method(value, inplace=True)', try using 'df.method({col: value}, inplace=True)' or df[col] = df[col].method(value) instead, to perform the operation inplace on the original object.\n",
      "\n",
      "\n",
      "  merged[col].fillna(merged[col].median(), inplace=True)\n",
      "C:\\Users\\sudharshan\\AppData\\Local\\Temp\\ipykernel_12028\\832086240.py:3: FutureWarning: A value is trying to be set on a copy of a DataFrame or Series through chained assignment using an inplace method.\n",
      "The behavior will change in pandas 3.0. This inplace method will never work because the intermediate object on which we are setting values always behaves as a copy.\n",
      "\n",
      "For example, when doing 'df[col].method(value, inplace=True)', try using 'df.method({col: value}, inplace=True)' or df[col] = df[col].method(value) instead, to perform the operation inplace on the original object.\n",
      "\n",
      "\n",
      "  merged[col].fillna(merged[col].median(), inplace=True)\n",
      "C:\\Users\\sudharshan\\AppData\\Local\\Temp\\ipykernel_12028\\832086240.py:3: FutureWarning: A value is trying to be set on a copy of a DataFrame or Series through chained assignment using an inplace method.\n",
      "The behavior will change in pandas 3.0. This inplace method will never work because the intermediate object on which we are setting values always behaves as a copy.\n",
      "\n",
      "For example, when doing 'df[col].method(value, inplace=True)', try using 'df.method({col: value}, inplace=True)' or df[col] = df[col].method(value) instead, to perform the operation inplace on the original object.\n",
      "\n",
      "\n",
      "  merged[col].fillna(merged[col].median(), inplace=True)\n",
      "C:\\Users\\sudharshan\\AppData\\Local\\Temp\\ipykernel_12028\\832086240.py:3: FutureWarning: A value is trying to be set on a copy of a DataFrame or Series through chained assignment using an inplace method.\n",
      "The behavior will change in pandas 3.0. This inplace method will never work because the intermediate object on which we are setting values always behaves as a copy.\n",
      "\n",
      "For example, when doing 'df[col].method(value, inplace=True)', try using 'df.method({col: value}, inplace=True)' or df[col] = df[col].method(value) instead, to perform the operation inplace on the original object.\n",
      "\n",
      "\n",
      "  merged[col].fillna(merged[col].median(), inplace=True)\n",
      "C:\\Users\\sudharshan\\AppData\\Local\\Temp\\ipykernel_12028\\832086240.py:3: FutureWarning: A value is trying to be set on a copy of a DataFrame or Series through chained assignment using an inplace method.\n",
      "The behavior will change in pandas 3.0. This inplace method will never work because the intermediate object on which we are setting values always behaves as a copy.\n",
      "\n",
      "For example, when doing 'df[col].method(value, inplace=True)', try using 'df.method({col: value}, inplace=True)' or df[col] = df[col].method(value) instead, to perform the operation inplace on the original object.\n",
      "\n",
      "\n",
      "  merged[col].fillna(merged[col].median(), inplace=True)\n",
      "C:\\Users\\sudharshan\\AppData\\Local\\Temp\\ipykernel_12028\\832086240.py:3: FutureWarning: A value is trying to be set on a copy of a DataFrame or Series through chained assignment using an inplace method.\n",
      "The behavior will change in pandas 3.0. This inplace method will never work because the intermediate object on which we are setting values always behaves as a copy.\n",
      "\n",
      "For example, when doing 'df[col].method(value, inplace=True)', try using 'df.method({col: value}, inplace=True)' or df[col] = df[col].method(value) instead, to perform the operation inplace on the original object.\n",
      "\n",
      "\n",
      "  merged[col].fillna(merged[col].median(), inplace=True)\n",
      "C:\\Users\\sudharshan\\AppData\\Local\\Temp\\ipykernel_12028\\832086240.py:3: FutureWarning: A value is trying to be set on a copy of a DataFrame or Series through chained assignment using an inplace method.\n",
      "The behavior will change in pandas 3.0. This inplace method will never work because the intermediate object on which we are setting values always behaves as a copy.\n",
      "\n",
      "For example, when doing 'df[col].method(value, inplace=True)', try using 'df.method({col: value}, inplace=True)' or df[col] = df[col].method(value) instead, to perform the operation inplace on the original object.\n",
      "\n",
      "\n",
      "  merged[col].fillna(merged[col].median(), inplace=True)\n",
      "C:\\Users\\sudharshan\\AppData\\Local\\Temp\\ipykernel_12028\\832086240.py:3: FutureWarning: A value is trying to be set on a copy of a DataFrame or Series through chained assignment using an inplace method.\n",
      "The behavior will change in pandas 3.0. This inplace method will never work because the intermediate object on which we are setting values always behaves as a copy.\n",
      "\n",
      "For example, when doing 'df[col].method(value, inplace=True)', try using 'df.method({col: value}, inplace=True)' or df[col] = df[col].method(value) instead, to perform the operation inplace on the original object.\n",
      "\n",
      "\n",
      "  merged[col].fillna(merged[col].median(), inplace=True)\n",
      "C:\\Users\\sudharshan\\AppData\\Local\\Temp\\ipykernel_12028\\832086240.py:3: FutureWarning: A value is trying to be set on a copy of a DataFrame or Series through chained assignment using an inplace method.\n",
      "The behavior will change in pandas 3.0. This inplace method will never work because the intermediate object on which we are setting values always behaves as a copy.\n",
      "\n",
      "For example, when doing 'df[col].method(value, inplace=True)', try using 'df.method({col: value}, inplace=True)' or df[col] = df[col].method(value) instead, to perform the operation inplace on the original object.\n",
      "\n",
      "\n",
      "  merged[col].fillna(merged[col].median(), inplace=True)\n",
      "C:\\Users\\sudharshan\\AppData\\Local\\Temp\\ipykernel_12028\\832086240.py:3: FutureWarning: A value is trying to be set on a copy of a DataFrame or Series through chained assignment using an inplace method.\n",
      "The behavior will change in pandas 3.0. This inplace method will never work because the intermediate object on which we are setting values always behaves as a copy.\n",
      "\n",
      "For example, when doing 'df[col].method(value, inplace=True)', try using 'df.method({col: value}, inplace=True)' or df[col] = df[col].method(value) instead, to perform the operation inplace on the original object.\n",
      "\n",
      "\n",
      "  merged[col].fillna(merged[col].median(), inplace=True)\n",
      "C:\\Users\\sudharshan\\AppData\\Local\\Temp\\ipykernel_12028\\832086240.py:3: FutureWarning: A value is trying to be set on a copy of a DataFrame or Series through chained assignment using an inplace method.\n",
      "The behavior will change in pandas 3.0. This inplace method will never work because the intermediate object on which we are setting values always behaves as a copy.\n",
      "\n",
      "For example, when doing 'df[col].method(value, inplace=True)', try using 'df.method({col: value}, inplace=True)' or df[col] = df[col].method(value) instead, to perform the operation inplace on the original object.\n",
      "\n",
      "\n",
      "  merged[col].fillna(merged[col].median(), inplace=True)\n",
      "C:\\Users\\sudharshan\\AppData\\Local\\Temp\\ipykernel_12028\\832086240.py:3: FutureWarning: A value is trying to be set on a copy of a DataFrame or Series through chained assignment using an inplace method.\n",
      "The behavior will change in pandas 3.0. This inplace method will never work because the intermediate object on which we are setting values always behaves as a copy.\n",
      "\n",
      "For example, when doing 'df[col].method(value, inplace=True)', try using 'df.method({col: value}, inplace=True)' or df[col] = df[col].method(value) instead, to perform the operation inplace on the original object.\n",
      "\n",
      "\n",
      "  merged[col].fillna(merged[col].median(), inplace=True)\n",
      "C:\\Users\\sudharshan\\AppData\\Local\\Temp\\ipykernel_12028\\832086240.py:3: FutureWarning: A value is trying to be set on a copy of a DataFrame or Series through chained assignment using an inplace method.\n",
      "The behavior will change in pandas 3.0. This inplace method will never work because the intermediate object on which we are setting values always behaves as a copy.\n",
      "\n",
      "For example, when doing 'df[col].method(value, inplace=True)', try using 'df.method({col: value}, inplace=True)' or df[col] = df[col].method(value) instead, to perform the operation inplace on the original object.\n",
      "\n",
      "\n",
      "  merged[col].fillna(merged[col].median(), inplace=True)\n",
      "C:\\Users\\sudharshan\\AppData\\Local\\Temp\\ipykernel_12028\\832086240.py:3: FutureWarning: A value is trying to be set on a copy of a DataFrame or Series through chained assignment using an inplace method.\n",
      "The behavior will change in pandas 3.0. This inplace method will never work because the intermediate object on which we are setting values always behaves as a copy.\n",
      "\n",
      "For example, when doing 'df[col].method(value, inplace=True)', try using 'df.method({col: value}, inplace=True)' or df[col] = df[col].method(value) instead, to perform the operation inplace on the original object.\n",
      "\n",
      "\n",
      "  merged[col].fillna(merged[col].median(), inplace=True)\n"
     ]
    }
   ],
   "source": [
    "# Fill missing numerical values with median\n",
    "for col in merged.select_dtypes(include='number').columns:\n",
    "    merged[col].fillna(merged[col].median(), inplace=True)"
   ]
  },
  {
   "cell_type": "code",
   "execution_count": 34,
   "metadata": {},
   "outputs": [
    {
     "name": "stdout",
     "output_type": "stream",
     "text": [
      "✅ Data Cleaning Complete and Graphs Plotted!\n"
     ]
    },
    {
     "name": "stderr",
     "output_type": "stream",
     "text": [
      "C:\\Users\\sudharshan\\AppData\\Local\\Temp\\ipykernel_12028\\969153862.py:3: FutureWarning: A value is trying to be set on a copy of a DataFrame or Series through chained assignment using an inplace method.\n",
      "The behavior will change in pandas 3.0. This inplace method will never work because the intermediate object on which we are setting values always behaves as a copy.\n",
      "\n",
      "For example, when doing 'df[col].method(value, inplace=True)', try using 'df.method({col: value}, inplace=True)' or df[col] = df[col].method(value) instead, to perform the operation inplace on the original object.\n",
      "\n",
      "\n",
      "  merged[col].fillna('Unknown', inplace=True)\n"
     ]
    }
   ],
   "source": [
    "# Fill missing categorical with \"Unknown\"\n",
    "for col in merged.select_dtypes(include='object').columns:\n",
    "    merged[col].fillna('Unknown', inplace=True)\n",
    "\n",
    "print(\"✅ Data Cleaning Complete and Graphs Plotted!\")"
   ]
  }
 ],
 "metadata": {
  "language_info": {
   "name": "python"
  }
 },
 "nbformat": 4,
 "nbformat_minor": 2
}
